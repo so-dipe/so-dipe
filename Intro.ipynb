{
  "nbformat": 4,
  "nbformat_minor": 0,
  "metadata": {
    "colab": {
      "name": "Untitled20.ipynb",
      "provenance": [],
      "toc_visible": true,
      "authorship_tag": "ABX9TyNI4yAJEPU5YSR+aJUecKal",
      "include_colab_link": true
    },
    "kernelspec": {
      "name": "python3",
      "display_name": "Python 3"
    },
    "language_info": {
      "name": "python"
    }
  },
  "cells": [
    {
      "cell_type": "markdown",
      "metadata": {
        "id": "view-in-github",
        "colab_type": "text"
      },
      "source": [
        "<a href=\"https://colab.research.google.com/github/so-dipe/so-dipe/blob/main/Intro.ipynb\" target=\"_parent\"><img src=\"https://colab.research.google.com/assets/colab-badge.svg\" alt=\"Open In Colab\"/></a>"
      ]
    },
    {
      "cell_type": "markdown",
      "source": [
        "# Introduction to Python\n",
        "\n",
        "Almost all programming tutorials start with printing `Hello World` on the command line. So that so where we would start here, but we won't be printing it on a command line..."
      ],
      "metadata": {
        "id": "VyYXmvfEjfpm"
      }
    },
    {
      "cell_type": "code",
      "execution_count": 1,
      "metadata": {
        "colab": {
          "base_uri": "https://localhost:8080/"
        },
        "id": "bcZBGV1LixnF",
        "outputId": "b2180e19-a86d-4904-ae8d-833b2bd021e1"
      },
      "outputs": [
        {
          "output_type": "stream",
          "name": "stdout",
          "text": [
            "Hello World\n"
          ]
        }
      ],
      "source": [
        "# print hello world"
      ]
    },
    {
      "cell_type": "markdown",
      "source": [
        "Well, that was pretty easy. A quick seg-way though...\n",
        "\n",
        "Normally, we run python locally on our computer (here we run python on the cloud - remember cloud computing). I have chosen this method because this way every one (even it a phone) can follow along. \n",
        "\n",
        "On a local computer, to run python, you need to do some things first...\n",
        "\n",
        "First you have to download the latest version of python from [python.org](https://www.python.org/downloads/windows/)\n",
        "\n",
        "I won't be going into full detail here.\n",
        "\n",
        "But if you want to learn how to do it, I'd leave a youtube link here ...."
      ],
      "metadata": {
        "id": "LkMQq_3Mj5sH"
      }
    },
    {
      "cell_type": "markdown",
      "source": [
        "## What is Python?\n",
        "Python is a popular programming language. It was created by Guido van Rossum, and released in 1991.\n",
        "\n",
        "It is used for:\n",
        "\n",
        "* web development (server-side),\n",
        "* software development,\n",
        "* mathematics,\n",
        "* system scripting.\n",
        "\n",
        "##What can Python do?\n",
        "* Python can be used on a server to create web applications.\n",
        "* Python can be used alongside software to create workflows.\n",
        "* Python can connect to database systems. It can also read and modify files.\n",
        "* Python can be used to handle big data and perform complex mathematics.\n",
        "* Python can be used for rapid prototyping, or for production-ready software development.\n",
        "\n",
        "##Why Python?\n",
        "* Python works on different platforms (Windows, Mac, Linux, Raspberry Pi, etc).\n",
        "* Python has a simple syntax similar to the English language.\n",
        "* Python has syntax that allows developers to write programs with fewer lines than some other programming languages.\n",
        "* Python runs on an interpreter system, meaning that code can be executed as soon as it is written. This means that prototyping can be very quick.\n",
        "* Python can be treated in a procedural way, an object-oriented way or a functional way.\n",
        "\n",
        "##Good to know\n",
        "* The most recent major version of Python is Python 3, which we shall be using in this tutorial. However, Python 2, although not being updated with anything other than security updates, is still quite popular.\n",
        "* In this tutorial Python will be written in a text editor. It is possible to write Python in an Integrated Development Environment, such as Thonny, Pycharm, * Netbeans or Eclipse which are particularly useful when managing larger collections of Python files.\n",
        "\n",
        "##Python Syntax compared to other programming languages\n",
        "* Python was designed for readability, and has some similarities to the English language with influence from mathematics.\n",
        "* Python uses new lines to complete a command, as opposed to other programming languages which often use semicolons or parentheses.\n",
        "* Python relies on indentation, using whitespace, to define scope; such as the scope of loops, functions and classes. Other programming languages often use curly-brackets for this purpose.\n",
        "\n",
        "\n",
        "**Copied from w3schools**\n"
      ],
      "metadata": {
        "id": "62_ftEfQlwFY"
      }
    },
    {
      "cell_type": "markdown",
      "source": [
        "## Python Syntax"
      ],
      "metadata": {
        "id": "mzhtFQnXr-2h"
      }
    },
    {
      "cell_type": "markdown",
      "source": [
        "## Python Comments\n",
        "\n",
        "Comments, generally in programming are lines or blocks of code that we don't want to run. In python, we can comment our code by adding a `#` symbol before writing.\n",
        "\n",
        "If we want to comment multiple lines, there are two ways. I have already introduced the first, as for the second, it is to put a block of code in a type of docstring `'''`\n",
        "\n",
        "The first method is used for single lines and the second for multiple lines"
      ],
      "metadata": {
        "id": "HpEPlLLDsDwT"
      }
    },
    {
      "cell_type": "code",
      "source": [
        "# Show an example (first type)"
      ],
      "metadata": {
        "id": "wbQ35IHYj3Wm"
      },
      "execution_count": 2,
      "outputs": []
    },
    {
      "cell_type": "code",
      "source": [
        ""
      ],
      "metadata": {
        "id": "fZaBKCIcspDz"
      },
      "execution_count": null,
      "outputs": []
    },
    {
      "cell_type": "markdown",
      "source": [
        "## Python Variables\n",
        "\n",
        "Variables are containers for storing data values.\n",
        "\n",
        "Python has no command for declaring a variable.\n",
        "\n",
        "A variable is created the moment you first assign a value to it.\n",
        "\n",
        "**Copied from w3schools**"
      ],
      "metadata": {
        "id": "CE2CNrdYtTja"
      }
    },
    {
      "cell_type": "code",
      "source": [
        "# x = 4       # x is of type int\n",
        "# x = \"Sally\" # x is now of type str\n",
        "# print(x)\n",
        "\n",
        "#Casting\n",
        "# x = str(3)    # x will be '3'\n",
        "# y = int(3)    # y will be 3\n",
        "# z = float(3)  # z will be 3.0\n",
        "\n",
        "#Get Type\n",
        "# x = 5\n",
        "# y = \"John\"\n",
        "# print(type(x))\n",
        "# print(type(y))\n",
        "\n",
        "#Single or Double Quotes\n",
        "# x = \"John\"\n",
        "# # is the same as\n",
        "# x = 'John'\n",
        "\n",
        "#case-sensitive\n",
        "# a = 4\n",
        "# A = \"Sally\"\n",
        "# #A will not overwrite \n",
        "\n",
        "\n",
        "# copied from w3schools"
      ],
      "metadata": {
        "id": "kwJbnbk3tSf2"
      },
      "execution_count": null,
      "outputs": []
    },
    {
      "cell_type": "markdown",
      "source": [
        "###Variable Names\n",
        "* A variable can have a short name (like x and y) or a more descriptive name (age, carname, total_volume). Rules for Python variables:\n",
        "* A variable name must start with a letter or the underscore character\n",
        "* A variable name cannot start with a number\n",
        "* A variable name can only contain alpha-numeric characters and underscores (A-z, 0-9, and _ )\n",
        "* Variable names are case-sensitive (age, Age and AGE are three different variables)\n",
        "\n",
        "**Copied from w3schools**"
      ],
      "metadata": {
        "id": "wxTPQ8u8uDPj"
      }
    },
    {
      "cell_type": "code",
      "source": [
        "# myvar = \"John\"\n",
        "# my_var = \"John\"\n",
        "# _my_var = \"John\"\n",
        "# myVar = \"John\"\n",
        "# MYVAR = \"John\"\n",
        "# myvar2 = \"John\"\n",
        "\n",
        "# 2myvar = \"John\"\n",
        "# my-var = \"John\"\n",
        "# my var = \"John\""
      ],
      "metadata": {
        "id": "1vVDfFbVuRZD"
      },
      "execution_count": null,
      "outputs": []
    },
    {
      "cell_type": "markdown",
      "source": [
        "###Many Values to Multiple Variables\n",
        "Python allows you to assign values to multiple variables in one line:\n"
      ],
      "metadata": {
        "id": "plHsrAEZuvdK"
      }
    },
    {
      "cell_type": "code",
      "source": [
        "# x, y, z = \"Orange\", \"Banana\", \"Cherry\"\n",
        "# print(x)\n",
        "# print(y)\n",
        "# print(z)\n",
        "\n",
        "# x = y = z = \"Orange\"\n",
        "# print(x)\n",
        "# print(y)\n",
        "# print(z)\n",
        "\n",
        "# fruits = [\"apple\", \"banana\", \"cherry\"]\n",
        "# x, y, z = fruits\n",
        "# print(x)\n",
        "# print(y)\n",
        "# print(z)"
      ],
      "metadata": {
        "id": "Lloo6p58u8UJ"
      },
      "execution_count": null,
      "outputs": []
    },
    {
      "cell_type": "markdown",
      "source": [
        "###Output Variables\n",
        "The Python `print()` function is often used to output variables."
      ],
      "metadata": {
        "id": "1f6VvwDivM9k"
      }
    },
    {
      "cell_type": "code",
      "source": [
        "# x = \"Python\"\n",
        "# y = \"is\"\n",
        "# z = \"awesome\"\n",
        "# print(x, y, z)\n",
        "\n",
        "# x = \"Python \"\n",
        "# y = \"is \"\n",
        "# z = \"awesome\"\n",
        "# print(x + y + z)\n",
        "\n",
        "# x = 5\n",
        "# y = 10\n",
        "# print(x + y)\n",
        "\n",
        "# x = 5\n",
        "# y = \"John\"\n",
        "# print(x + y)\n",
        "\n",
        "# x = 5\n",
        "# y = \"John\"\n",
        "# print(x, y)"
      ],
      "metadata": {
        "id": "iXTlWNu1vY2O"
      },
      "execution_count": null,
      "outputs": []
    },
    {
      "cell_type": "markdown",
      "source": [
        "## Python Data Types\n",
        "\n",
        "In programming, data type is an important concept.\n",
        "\n",
        "Variables can store data of different types, and different types can do different things.\n",
        "\n",
        "Python has the following data types built-in by default, in these categories:\n",
        "\n",
        "* Text Type:\t`str`\n",
        "* Numeric Types:\t`int`, `float`, `complex`\n",
        "* Sequence Types:\t`list`, `tuple`, `range`\n",
        "* Mapping Type:\t`dict`\n",
        "* Set Types:\t`set`, `frozenset`\n",
        "* Boolean Type:\t`bool`\n",
        "* Binary Types:\t`bytes`, `bytearray`, `memoryview`\n",
        "* None Type:\t`NoneType`\n",
        "\n",
        "**Copied from w3schools**"
      ],
      "metadata": {
        "id": "NE6dFtDnvrfb"
      }
    },
    {
      "cell_type": "markdown",
      "source": [
        "## Python Numbers\n",
        "There are three numeric types in Python:\n",
        "\n",
        "* `int`\n",
        "* `float`\n",
        "* `complex`\n",
        "\n",
        "Variables of numeric types are created when you assign a value to them:"
      ],
      "metadata": {
        "id": "weVUsofzwxRh"
      }
    },
    {
      "cell_type": "code",
      "source": [
        "# x = 1\n",
        "# y = 35656222554887711\n",
        "# z = -3255522\n",
        "\n",
        "# print(type(x))\n",
        "# print(type(y))\n",
        "# print(type(z))\n",
        "\n",
        "# x = 35.3\n",
        "# y = 12E4\n",
        "# z = -87.7e100\n",
        "\n",
        "# print(type(x))\n",
        "# print(type(y))\n",
        "# print(type(z))"
      ],
      "metadata": {
        "id": "8SZqF3RWwfYG"
      },
      "execution_count": null,
      "outputs": []
    },
    {
      "cell_type": "markdown",
      "source": [
        "###Type Conversion\n",
        "You can convert from one type to another with the `int()`, `float()`, and `complex()` methods:"
      ],
      "metadata": {
        "id": "ZR2D6bK_xL_2"
      }
    },
    {
      "cell_type": "code",
      "source": [
        "# x = 1    # int\n",
        "# y = 2.8  # float\n",
        "# z = 1j   # complex\n",
        "\n",
        "# #convert from int to float:\n",
        "# a = float(x)\n",
        "\n",
        "# #convert from float to int:\n",
        "# b = int(y)\n",
        "\n",
        "# #convert from int to complex:\n",
        "# c = complex(x)\n",
        "\n",
        "# print(a)\n",
        "# print(b)\n",
        "# print(c)\n",
        "\n",
        "# print(type(a))\n",
        "# print(type(b))\n",
        "# print(type(c))"
      ],
      "metadata": {
        "id": "iyEq7JsExRbX"
      },
      "execution_count": null,
      "outputs": []
    },
    {
      "cell_type": "markdown",
      "source": [
        "###Random Number\n",
        "Python does not have a `random()` function to make a random number, but Python has a built-in module called `random` that can be used to make random numbers:"
      ],
      "metadata": {
        "id": "DyCe3w5VxQ0j"
      }
    },
    {
      "cell_type": "code",
      "source": [
        "# import random\n",
        "\n",
        "# print(random.randrange(1, 10))"
      ],
      "metadata": {
        "id": "Yn5iv5idxm8u"
      },
      "execution_count": null,
      "outputs": []
    },
    {
      "cell_type": "markdown",
      "source": [
        "## Python Casting\n",
        "\n",
        "###Specify a Variable Type\n",
        "There may be times when you want to specify a type on to a variable. This can be done with casting. Python is an object-orientated language, and as such it uses classes to define data types, including its primitive types.\n",
        "\n",
        "Casting in python is therefore done using constructor functions:\n",
        "\n",
        "* `int()` - constructs an integer number from an integer literal, a float literal (by removing all decimals), or a string literal (providing the string represents a whole number)\n",
        "* `float()` - constructs a float number from an integer literal, a float literal or a string literal (providing the string represents a float or an integer)\n",
        "* `str()` - constructs a string from a wide variety of data types, including strings, integer literals and float literals"
      ],
      "metadata": {
        "id": "MohiH1q5xv7l"
      }
    },
    {
      "cell_type": "code",
      "source": [
        "# x = int(1)   # x will be 1\n",
        "# y = int(2.8) # y will be 2\n",
        "# z = int(\"3\") # z will be 3\n",
        "\n",
        "# x = float(1)     # x will be 1.0\n",
        "# y = float(2.8)   # y will be 2.8\n",
        "# z = float(\"3\")   # z will be 3.0\n",
        "# w = float(\"4.2\") # w will be 4.2\n",
        "\n",
        "# x = str(\"s1\") # x will be 's1'\n",
        "# y = str(2)    # y will be '2'\n",
        "# z = str(3.0)  # z will be '3.0'"
      ],
      "metadata": {
        "id": "Zk4_wfvLxwzF"
      },
      "execution_count": null,
      "outputs": []
    },
    {
      "cell_type": "markdown",
      "source": [
        "## Python Strings\n",
        "\n",
        "Strings in python are surrounded by either single quotation marks, or double quotation marks.\n",
        "\n",
        "`'hello'` is the same as `\"hello\"`.\n",
        "\n",
        "You can display a string literal with the `print()` function:\n",
        "\n",
        "### Multiline Strings\n",
        "\n",
        "You can assign a multiline string to a variable by using three quotes:\n",
        "\n",
        "### Strings are Arrays\n",
        "Like many other popular programming languages, strings in Python are arrays of bytes representing unicode characters.\n",
        "\n",
        "However, Python does not have a character data type, a single character is simply a string with a length of 1.\n",
        "\n",
        "Square brackets can be used to access elements of the string.\n",
        "\n",
        "### Looping Through a String\n",
        "Since strings are arrays, we can loop through the characters in a string, with a `for` loop.\n",
        "\n",
        "### String Length\n",
        "To get the length of a string, use the len() function.\n",
        "\n",
        "### Check String\n",
        "To check if a certain phrase or character is present in a string, we can use the keyword `in`\n",
        "\n",
        "```\n",
        "txt = \"The best things in life are free!\"\n",
        "print(\"free\" in txt)\n",
        "```\n",
        "Use it in an if statement:\n",
        "```\n",
        "txt = \"The best things in life are free!\"\n",
        "if \"free\" in txt:\n",
        "  print(\"Yes, 'free' is present.\")\n",
        "```\n",
        "Check if NOT\n",
        "To check if a certain phrase or character is NOT present in a string, we can use the keyword `not in`\n",
        "\n"
      ],
      "metadata": {
        "id": "z00pITZHyHgI"
      }
    },
    {
      "cell_type": "code",
      "source": [
        ""
      ],
      "metadata": {
        "id": "dl1TcucGzjWG"
      },
      "execution_count": null,
      "outputs": []
    },
    {
      "cell_type": "markdown",
      "source": [
        "### Slicing\n",
        "You can return a range of characters by using the slice syntax.\n",
        "\n",
        "Specify the start index and the end index, separated by a colon, to return a part of the string.\n",
        "\n",
        "```\n",
        "b = \"Hello, World!\"\n",
        "print(b[2:5])\n",
        "b = \"Hello, World!\"\n",
        "print(b[:5])\n",
        "b = \"Hello, World!\"\n",
        "print(b[2:])\n",
        "b = \"Hello, World!\"\n",
        "print(b[-5:-2])\n",
        "```"
      ],
      "metadata": {
        "id": "20BpPps1zlpH"
      }
    },
    {
      "cell_type": "code",
      "source": [
        ""
      ],
      "metadata": {
        "id": "z6iTQR5ezk_A"
      },
      "execution_count": null,
      "outputs": []
    },
    {
      "cell_type": "markdown",
      "source": [
        "### Python - Modify Strings\n",
        "\n",
        "Python has a set of built-in methods that you can use on strings.\n",
        "\n",
        "```\n",
        "a = \"Hello, World!\"\n",
        "print(a.upper())\n",
        "a = \"Hello, World!\"\n",
        "print(a.lower())\n",
        "a = \" Hello, World! \"\n",
        "print(a.strip())\n",
        "a = \"Hello, World!\"\n",
        "print(a.replace(\"H\", \"J\"))\n",
        "a = \"Hello, World!\"\n",
        "print(a.split(\",\"))\n",
        "```"
      ],
      "metadata": {
        "id": "J3c3GiEZz3Fy"
      }
    },
    {
      "cell_type": "code",
      "source": [
        ""
      ],
      "metadata": {
        "id": "v8cTtqFkz8JZ"
      },
      "execution_count": null,
      "outputs": []
    },
    {
      "cell_type": "markdown",
      "source": [
        "### Python - String Concatenation\n",
        "\n",
        "### String Concatenation\n",
        "To concatenate, or combine, two strings you can use the + operator.\n",
        "\n",
        "```\n",
        "a = \"Hello\"\n",
        "b = \"World\"\n",
        "c = a + b\n",
        "print(c)\n",
        "a = \"Hello\"\n",
        "b = \"World\"\n",
        "c = a + \" \" + b\n",
        "print(c)\n",
        "```"
      ],
      "metadata": {
        "id": "Zxq-vl0J0Xrm"
      }
    },
    {
      "cell_type": "code",
      "source": [
        ""
      ],
      "metadata": {
        "id": "fstOArmT0pfX"
      },
      "execution_count": null,
      "outputs": []
    },
    {
      "cell_type": "markdown",
      "source": [
        "### Python - Format - Strings\n",
        "String Format\n",
        "As we learned in the Python Variables chapter, we cannot combine strings and numbers like this:\n",
        "```\n",
        "age = 36\n",
        "txt = \"My name is John, I am \" + age\n",
        "print(txt)\n",
        "```\n",
        "But we can combine strings and numbers by using the `format()` method!\n",
        "\n",
        "The `format()` method takes the passed arguments, formats them, and places them in the string where the placeholders `{}` are:\n",
        "```\n",
        "age = 36\n",
        "txt = \"My name is John, and I am {}\"\n",
        "print(txt.format(age))\n",
        "```\n",
        "The `format()` method takes unlimited number of arguments, and are placed into the respective placeholders:\n",
        "```\n",
        "quantity = 3\n",
        "itemno = 567\n",
        "price = 49.95\n",
        "myorder = \"I want {} pieces of item {} for {} dollars.\"\n",
        "print(myorder.format(quantity, itemno, price))\n",
        "```\n",
        "\n",
        "\n"
      ],
      "metadata": {
        "id": "elcKlf0r0qfT"
      }
    },
    {
      "cell_type": "markdown",
      "source": [
        "###Escape Character\n",
        "To insert characters that are illegal in a string, use an escape character.\n",
        "\n",
        "An escape character is a backslash `\\`followed by the character you want to insert.\n",
        "\n",
        "An example of an illegal character is a double quote inside a string that is surrounded by double quotes:\n",
        "\n",
        "```\n",
        "txt = \"We are the so-called \"Vikings\" from the north.\"\n",
        "txt = \"We are the so-called \\\"Vikings\\\" from the north.\"\n",
        "```\n",
        "* `\\'`\tSingle Quote\t\n",
        "* `\\\\`\tBackslash\t\n",
        "* `\\n`\tNew Line\t\n",
        "* `\\r`\tCarriage Return\t\n",
        "* `\\t`\tTab\t\n",
        "* `\\b`\tBackspace\t\n",
        "* `\\f`\tForm Feed\t\n",
        "* `\\ooo`\tOctal value\t\n",
        "* `\\xhh`\tHex value\t\n",
        "\n"
      ],
      "metadata": {
        "id": "GWKH-oHr1b-o"
      }
    },
    {
      "cell_type": "code",
      "source": [
        ""
      ],
      "metadata": {
        "id": "zKGyIt9q1VYK"
      },
      "execution_count": null,
      "outputs": []
    },
    {
      "cell_type": "markdown",
      "source": [
        "## Python Booleans\n",
        "In programming you often need to know if an expression is True or False.\n",
        "\n",
        "You can evaluate any expression in Python, and get one of two answers, True or False.\n",
        "\n",
        "When you compare two values, the expression is evaluated and Python returns the Boolean answer:\n",
        "```\n",
        "print(10 > 9)\n",
        "print(10 == 9)\n",
        "print(10 < 9)\n",
        "```\n",
        "```\n",
        "print(bool(\"Hello\"))\n",
        "print(bool(15))\n",
        "```\n",
        "\n",
        "###Most Values are True\n",
        "Almost any value is evaluated to True if it has some sort of content.\n",
        "\n",
        "Any string is True, except empty strings.\n",
        "\n",
        "Any number is True, except 0.\n",
        "\n",
        "Any list, tuple, set, and dictionary are True, except empty ones.\n",
        "\n",
        "```\n",
        "bool(False)\n",
        "bool(None)\n",
        "bool(0)\n",
        "bool(\"\")\n",
        "bool(())\n",
        "bool([])\n",
        "bool({})\n",
        "```"
      ],
      "metadata": {
        "id": "bgcbvdG42KQi"
      }
    },
    {
      "cell_type": "code",
      "source": [
        ""
      ],
      "metadata": {
        "id": "xjox6FGv2rQh"
      },
      "execution_count": null,
      "outputs": []
    },
    {
      "cell_type": "markdown",
      "source": [
        "##Python Operators\n",
        "Operators are used to perform operations on variables and values.\n",
        "\n",
        "In the example below, we use the `+` operator to add together two values:\n",
        "\n",
        "Python divides the operators in the following groups:\n",
        "\n",
        "* Arithmetic operators\n",
        "* Assignment operators\n",
        "* Comparison operators\n",
        "* Logical operators\n",
        "* Identity operators\n",
        "* Membership operators\n",
        "* Bitwise operators\n",
        "\n",
        "###Python Arithmetic Operators\n",
        "Arithmetic operators are used with numeric values to perform common mathematical operations:\n",
        "\n",
        "* `+`\tAddition\t`x + y`\t\n",
        "* `-`\tSubtraction\t`x - y`\n",
        "* `*`\tMultiplication\t`x * y`\t\n",
        "* `/`\tDivision\t`x / y`\t\n",
        "* `%`\tModulus\t`x % y`\t\n",
        "* `**`\tExponentiation\t`x ** y`\t\n",
        "* `//`\tFloor division\t`x // y`\n",
        "\n",
        "###Python Assignment Operators\n",
        "Assignment operators are used to assign values to variables:\n",
        "\n",
        "* `=`\t`x = 5`\n",
        "* `+=`\t`x += 3`\t\n",
        "* `-=`\t`x -= 3`\t`x = x - 3`\t\n",
        "\n",
        "###Python Comparison Operators\n",
        "Comparison operators are used to compare two values:\n",
        "\n",
        "* `==`\tEqual\t`x == y`\t\n",
        "* `!=`\tNot equal\t`x != y`\t\n",
        "* `>`\tGreater than\t`x > y`\t\n",
        "* `<`\tLess than\t`x < y`\t\n",
        "* `>=`\tGreater than or equal to\t`x >= y`\t\n",
        "* `<=`\tLess than or equal to\t`x <= y`\n",
        "\n",
        "###Python Logical Operators\n",
        "Logical operators are used to combine conditional statements:\n",
        "\n",
        "* `and` \tReturns True if both statements are true\t`x < 5 and  x < 10`\t\n",
        "* `or`\tReturns True if one of the statements is true\t`x < 5 or x < 4`\t\n",
        "* `not`\tReverse the result, returns False if the result is true\t`not(x < 5 and x < 10)`\n",
        "\n",
        "###Python Identity Operators\n",
        "Identity operators are used to compare the objects, not if they are equal, but if they are actually the same object, with the same memory location:\n",
        "\n",
        "* `is` \tReturns True if both variables are the same object\t`x is y`\n",
        "* `is not`\tReturns True if both variables are not the same object\t`x is not y`\n",
        "\n",
        "###Python Membership Operators\n",
        "Membership operators are used to test if a sequence is presented in an object:\n",
        "\n",
        "* `in` \tReturns True if a sequence with the specified value is present in the object\t`x in y`\t\n",
        "* `not in`\tReturns True if a sequence with the specified value is not present in the object\t`x not in y\t`\n",
        "\n",
        "###Python Bitwise Operators\n",
        "Bitwise operators are used to compare (binary) numbers:\n",
        "\n",
        "* `&` \tAND\tSets each bit to 1 if both bits are 1\n",
        "* `|`\tOR\tSets each bit to 1 if one of two bits is 1\n",
        "* `^`\tXOR\tSets each bit to 1 if only one of two bits is 1\n",
        "* `~` \tNOT\tInverts all the bits\n",
        "* `<<`\tZero fill left shift\tShift left by pushing zeros in from the right and let the leftmost bits fall off\n",
        "* `>>`\tSigned right shift\tShift right by pushing copies of the leftmost bit in from the left, and let the rightmost bits fall off\n"
      ],
      "metadata": {
        "id": "QKn1SP742r5w"
      }
    },
    {
      "cell_type": "markdown",
      "source": [
        "## Python Lists"
      ],
      "metadata": {
        "id": "8okKoPWh4nu7"
      }
    },
    {
      "cell_type": "code",
      "source": [
        ""
      ],
      "metadata": {
        "id": "XtAyRIN94iqk"
      },
      "execution_count": null,
      "outputs": []
    }
  ]
}